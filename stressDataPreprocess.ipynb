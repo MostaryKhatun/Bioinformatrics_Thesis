{
  "nbformat": 4,
  "nbformat_minor": 0,
  "metadata": {
    "colab": {
      "provenance": [],
      "mount_file_id": "1fF7uydMkIbhSafsA7cCPX2rwuthSeIjX",
      "authorship_tag": "ABX9TyNryTD+VoEcHUWA+8Ei13ds",
      "include_colab_link": true
    },
    "kernelspec": {
      "name": "python3",
      "display_name": "Python 3"
    },
    "language_info": {
      "name": "python"
    }
  },
  "cells": [
    {
      "cell_type": "markdown",
      "metadata": {
        "id": "view-in-github",
        "colab_type": "text"
      },
      "source": [
        "<a href=\"https://colab.research.google.com/github/MostaryKhatun/Bioinformatrics_Thesis/blob/main/stressDataPreprocess.ipynb\" target=\"_parent\"><img src=\"https://colab.research.google.com/assets/colab-badge.svg\" alt=\"Open In Colab\"/></a>"
      ]
    },
    {
      "cell_type": "code",
      "execution_count": null,
      "metadata": {
        "id": "eSHgm7cHAziB"
      },
      "outputs": [],
      "source": []
    },
    {
      "cell_type": "code",
      "source": [
        "from google.colab import drive\n",
        "drive.mount('/content/drive')\n"
      ],
      "metadata": {
        "colab": {
          "base_uri": "https://localhost:8080/"
        },
        "id": "PlG1U-OsA6uX",
        "outputId": "ecb2b75b-35c4-430d-aeed-fc092b5cbc21"
      },
      "execution_count": null,
      "outputs": [
        {
          "output_type": "stream",
          "name": "stdout",
          "text": [
            "Drive already mounted at /content/drive; to attempt to forcibly remount, call drive.mount(\"/content/drive\", force_remount=True).\n"
          ]
        }
      ]
    },
    {
      "cell_type": "markdown",
      "source": [
        " STEP 1: Upload the Files"
      ],
      "metadata": {
        "id": "t-raLmq0DOla"
      }
    },
    {
      "cell_type": "code",
      "source": [
        "from google.colab import files\n",
        "uploaded = files.upload()\n"
      ],
      "metadata": {
        "colab": {
          "base_uri": "https://localhost:8080/",
          "height": 73
        },
        "id": "shEVY71DBCxa",
        "outputId": "1c099d96-179d-4b68-bee6-c2939f756cab"
      },
      "execution_count": null,
      "outputs": [
        {
          "output_type": "display_data",
          "data": {
            "text/plain": [
              "<IPython.core.display.HTML object>"
            ],
            "text/html": [
              "\n",
              "     <input type=\"file\" id=\"files-493ddecf-103c-47af-b4b6-e6b7842c50e8\" name=\"files[]\" multiple disabled\n",
              "        style=\"border:none\" />\n",
              "     <output id=\"result-493ddecf-103c-47af-b4b6-e6b7842c50e8\">\n",
              "      Upload widget is only available when the cell has been executed in the\n",
              "      current browser session. Please rerun this cell to enable.\n",
              "      </output>\n",
              "      <script>// Copyright 2017 Google LLC\n",
              "//\n",
              "// Licensed under the Apache License, Version 2.0 (the \"License\");\n",
              "// you may not use this file except in compliance with the License.\n",
              "// You may obtain a copy of the License at\n",
              "//\n",
              "//      http://www.apache.org/licenses/LICENSE-2.0\n",
              "//\n",
              "// Unless required by applicable law or agreed to in writing, software\n",
              "// distributed under the License is distributed on an \"AS IS\" BASIS,\n",
              "// WITHOUT WARRANTIES OR CONDITIONS OF ANY KIND, either express or implied.\n",
              "// See the License for the specific language governing permissions and\n",
              "// limitations under the License.\n",
              "\n",
              "/**\n",
              " * @fileoverview Helpers for google.colab Python module.\n",
              " */\n",
              "(function(scope) {\n",
              "function span(text, styleAttributes = {}) {\n",
              "  const element = document.createElement('span');\n",
              "  element.textContent = text;\n",
              "  for (const key of Object.keys(styleAttributes)) {\n",
              "    element.style[key] = styleAttributes[key];\n",
              "  }\n",
              "  return element;\n",
              "}\n",
              "\n",
              "// Max number of bytes which will be uploaded at a time.\n",
              "const MAX_PAYLOAD_SIZE = 100 * 1024;\n",
              "\n",
              "function _uploadFiles(inputId, outputId) {\n",
              "  const steps = uploadFilesStep(inputId, outputId);\n",
              "  const outputElement = document.getElementById(outputId);\n",
              "  // Cache steps on the outputElement to make it available for the next call\n",
              "  // to uploadFilesContinue from Python.\n",
              "  outputElement.steps = steps;\n",
              "\n",
              "  return _uploadFilesContinue(outputId);\n",
              "}\n",
              "\n",
              "// This is roughly an async generator (not supported in the browser yet),\n",
              "// where there are multiple asynchronous steps and the Python side is going\n",
              "// to poll for completion of each step.\n",
              "// This uses a Promise to block the python side on completion of each step,\n",
              "// then passes the result of the previous step as the input to the next step.\n",
              "function _uploadFilesContinue(outputId) {\n",
              "  const outputElement = document.getElementById(outputId);\n",
              "  const steps = outputElement.steps;\n",
              "\n",
              "  const next = steps.next(outputElement.lastPromiseValue);\n",
              "  return Promise.resolve(next.value.promise).then((value) => {\n",
              "    // Cache the last promise value to make it available to the next\n",
              "    // step of the generator.\n",
              "    outputElement.lastPromiseValue = value;\n",
              "    return next.value.response;\n",
              "  });\n",
              "}\n",
              "\n",
              "/**\n",
              " * Generator function which is called between each async step of the upload\n",
              " * process.\n",
              " * @param {string} inputId Element ID of the input file picker element.\n",
              " * @param {string} outputId Element ID of the output display.\n",
              " * @return {!Iterable<!Object>} Iterable of next steps.\n",
              " */\n",
              "function* uploadFilesStep(inputId, outputId) {\n",
              "  const inputElement = document.getElementById(inputId);\n",
              "  inputElement.disabled = false;\n",
              "\n",
              "  const outputElement = document.getElementById(outputId);\n",
              "  outputElement.innerHTML = '';\n",
              "\n",
              "  const pickedPromise = new Promise((resolve) => {\n",
              "    inputElement.addEventListener('change', (e) => {\n",
              "      resolve(e.target.files);\n",
              "    });\n",
              "  });\n",
              "\n",
              "  const cancel = document.createElement('button');\n",
              "  inputElement.parentElement.appendChild(cancel);\n",
              "  cancel.textContent = 'Cancel upload';\n",
              "  const cancelPromise = new Promise((resolve) => {\n",
              "    cancel.onclick = () => {\n",
              "      resolve(null);\n",
              "    };\n",
              "  });\n",
              "\n",
              "  // Wait for the user to pick the files.\n",
              "  const files = yield {\n",
              "    promise: Promise.race([pickedPromise, cancelPromise]),\n",
              "    response: {\n",
              "      action: 'starting',\n",
              "    }\n",
              "  };\n",
              "\n",
              "  cancel.remove();\n",
              "\n",
              "  // Disable the input element since further picks are not allowed.\n",
              "  inputElement.disabled = true;\n",
              "\n",
              "  if (!files) {\n",
              "    return {\n",
              "      response: {\n",
              "        action: 'complete',\n",
              "      }\n",
              "    };\n",
              "  }\n",
              "\n",
              "  for (const file of files) {\n",
              "    const li = document.createElement('li');\n",
              "    li.append(span(file.name, {fontWeight: 'bold'}));\n",
              "    li.append(span(\n",
              "        `(${file.type || 'n/a'}) - ${file.size} bytes, ` +\n",
              "        `last modified: ${\n",
              "            file.lastModifiedDate ? file.lastModifiedDate.toLocaleDateString() :\n",
              "                                    'n/a'} - `));\n",
              "    const percent = span('0% done');\n",
              "    li.appendChild(percent);\n",
              "\n",
              "    outputElement.appendChild(li);\n",
              "\n",
              "    const fileDataPromise = new Promise((resolve) => {\n",
              "      const reader = new FileReader();\n",
              "      reader.onload = (e) => {\n",
              "        resolve(e.target.result);\n",
              "      };\n",
              "      reader.readAsArrayBuffer(file);\n",
              "    });\n",
              "    // Wait for the data to be ready.\n",
              "    let fileData = yield {\n",
              "      promise: fileDataPromise,\n",
              "      response: {\n",
              "        action: 'continue',\n",
              "      }\n",
              "    };\n",
              "\n",
              "    // Use a chunked sending to avoid message size limits. See b/62115660.\n",
              "    let position = 0;\n",
              "    do {\n",
              "      const length = Math.min(fileData.byteLength - position, MAX_PAYLOAD_SIZE);\n",
              "      const chunk = new Uint8Array(fileData, position, length);\n",
              "      position += length;\n",
              "\n",
              "      const base64 = btoa(String.fromCharCode.apply(null, chunk));\n",
              "      yield {\n",
              "        response: {\n",
              "          action: 'append',\n",
              "          file: file.name,\n",
              "          data: base64,\n",
              "        },\n",
              "      };\n",
              "\n",
              "      let percentDone = fileData.byteLength === 0 ?\n",
              "          100 :\n",
              "          Math.round((position / fileData.byteLength) * 100);\n",
              "      percent.textContent = `${percentDone}% done`;\n",
              "\n",
              "    } while (position < fileData.byteLength);\n",
              "  }\n",
              "\n",
              "  // All done.\n",
              "  yield {\n",
              "    response: {\n",
              "      action: 'complete',\n",
              "    }\n",
              "  };\n",
              "}\n",
              "\n",
              "scope.google = scope.google || {};\n",
              "scope.google.colab = scope.google.colab || {};\n",
              "scope.google.colab._files = {\n",
              "  _uploadFiles,\n",
              "  _uploadFilesContinue,\n",
              "};\n",
              "})(self);\n",
              "</script> "
            ]
          },
          "metadata": {}
        },
        {
          "output_type": "stream",
          "name": "stdout",
          "text": [
            "Saving target.csv to target.csv\n"
          ]
        }
      ]
    },
    {
      "cell_type": "code",
      "source": [
        "import os\n",
        "import csv\n",
        "import numpy as np\n",
        "import pandas as pd\n"
      ],
      "metadata": {
        "id": "6vAFYoVGGz9h"
      },
      "execution_count": null,
      "outputs": []
    },
    {
      "cell_type": "markdown",
      "source": [
        "Covert test to csv"
      ],
      "metadata": {
        "id": "y1Jvq1_mG7Yh"
      }
    },
    {
      "cell_type": "code",
      "source": [
        "def convert_txt_to_csv(input_file, output_file, delimiter='\\t'):\n",
        "    \"\"\"\n",
        "    Converts a text file to a CSV file.\n",
        "\n",
        "    Parameters:\n",
        "    - input_file (str): Path to the input text file.\n",
        "    - output_file (str): Path to the output CSV file.\n",
        "    - delimiter (str): Delimiter used in the input text file (default is tab-delimited).\n",
        "    \"\"\"\n",
        "    try:\n",
        "        with open(input_file, 'r', newline='') as infile:\n",
        "            reader = csv.reader(infile, delimiter=delimiter)\n",
        "            with open(output_file, 'w', newline='') as outfile:\n",
        "                writer = csv.writer(outfile)\n",
        "                for row in reader:\n",
        "                    writer.writerow(row)\n",
        "        print(f\"File '{input_file}' has been successfully converted to '{output_file}'.\")\n",
        "    except Exception as e:\n",
        "        print(f\"An error occurred while converting '{input_file}': {e}\")"
      ],
      "metadata": {
        "id": "FPJsKQ3qG-CK"
      },
      "execution_count": null,
      "outputs": []
    },
    {
      "cell_type": "markdown",
      "source": [
        "copy adj.p.value gene"
      ],
      "metadata": {
        "id": "aKsLeh2LHLYe"
      }
    },
    {
      "cell_type": "code",
      "source": [
        "def merge_csv_files(\n",
        "    first_csv_path,\n",
        "    second_csv_path,\n",
        "    output_csv_path,\n",
        "    first_key_column,\n",
        "    second_key_column,\n",
        "    columns_to_copy,\n",
        "    delimiter=','\n",
        "):\n",
        "    # Check if input files exist\n",
        "    if not os.path.isfile(first_csv_path):\n",
        "        print(f\"Error: The file '{first_csv_path}' does not exist.\")\n",
        "        return\n",
        "    if not os.path.isfile(second_csv_path):\n",
        "        print(f\"Error: The file '{second_csv_path}' does not exist.\")\n",
        "        return\n",
        "\n",
        "    # Read the first CSV and create a mapping from key to desired columns\n",
        "    first_data = {}\n",
        "    try:\n",
        "        with open(first_csv_path, 'r', newline='', encoding='utf-8') as first_file:\n",
        "            reader = csv.DictReader(first_file, delimiter=delimiter)\n",
        "            if first_key_column not in reader.fieldnames:\n",
        "                print(f\"Error: '{first_key_column}' not found in the first CSV file headers.\")\n",
        "                return\n",
        "            for row in reader:\n",
        "                key = row.get(first_key_column)\n",
        "                if key is None:\n",
        "                    continue\n",
        "                extracted = {col: row.get(col, \"\") for col in columns_to_copy}\n",
        "                first_data[key] = extracted\n",
        "    except Exception as e:\n",
        "        print(f\"Error reading '{first_csv_path}': {e}\")\n",
        "        return\n",
        "\n",
        "    # Read the second CSV and merge data\n",
        "    try:\n",
        "        with open(second_csv_path, 'r', newline='', encoding='utf-8') as second_file, \\\n",
        "             open(output_csv_path, 'w', newline='', encoding='utf-8') as output_file:\n",
        "\n",
        "            reader = csv.DictReader(second_file, delimiter=delimiter)\n",
        "            second_fieldnames = reader.fieldnames\n",
        "            if second_fieldnames is None:\n",
        "                print(f\"Error: The second CSV file '{second_csv_path}' is empty or missing headers.\")\n",
        "                return\n",
        "            if second_key_column not in second_fieldnames:\n",
        "                print(f\"Error: '{second_key_column}' not found in the second CSV file headers.\")\n",
        "                return\n",
        "\n",
        "            # Insert new columns after the first column\n",
        "            insert_position = 1\n",
        "            new_fieldnames = second_fieldnames[:insert_position] + columns_to_copy + second_fieldnames[insert_position:]\n",
        "            writer = csv.DictWriter(output_file, fieldnames=new_fieldnames, delimiter=delimiter)\n",
        "            writer.writeheader()\n",
        "\n",
        "            for row in reader:\n",
        "                key = row.get(second_key_column)\n",
        "                if key is None:\n",
        "                    writer.writerow(row)\n",
        "                    continue\n",
        "\n",
        "                additional_data = first_data.get(key, {col: \"\" for col in columns_to_copy})\n",
        "                new_row = {**row}\n",
        "                # Insert additional_data after the first column\n",
        "                for col in columns_to_copy:\n",
        "                    new_row[col] = additional_data.get(col, \"\")\n",
        "                # Ensure the order of columns\n",
        "                ordered_row = {field: new_row.get(field, \"\") for field in new_fieldnames}\n",
        "                writer.writerow(ordered_row)\n",
        "\n",
        "    except Exception as e:\n",
        "        print(f\"Error processing files: {e}\")\n",
        "        return\n",
        "\n",
        "    print(f\"Files have been successfully merged into '{output_csv_path}'.\")"
      ],
      "metadata": {
        "id": "xklc4KkzHO_c"
      },
      "execution_count": null,
      "outputs": []
    },
    {
      "cell_type": "markdown",
      "source": [
        "perform system biology:Gene regularator network"
      ],
      "metadata": {
        "id": "FDzzsJLfHZCl"
      }
    },
    {
      "cell_type": "code",
      "source": [
        "def perform_analysis(file_path, output_cleaned_file, report_file):\n",
        "    \"\"\"\n",
        "    Performs data analysis on the given CSV file.\n",
        "\n",
        "    Parameters:\n",
        "    - file_path (str): Path to the input CSV file.\n",
        "    - output_cleaned_file (str): Path to save the cleaned filtered data.\n",
        "    - report_file (str): Path to save the analysis report.\n",
        "    \"\"\"\n",
        "    data = pd.read_csv(file_path)\n",
        "\n",
        "    # Get the number of columns and rows\n",
        "    num_columns = data.shape[1]\n",
        "    num_rows = data.shape[0]\n",
        "\n",
        "    # Print column names\n",
        "    column_names = data.columns.tolist()\n",
        "    print(\"Column Names:\")\n",
        "    for col in column_names:\n",
        "        print(f\"- {col}\")\n",
        "\n",
        "    # Take column name and threshold as input from the user\n",
        "    column_name = input(\"Enter the column name for analysis: \").strip()\n",
        "    if column_name not in column_names:\n",
        "        print(f\"Error: Column '{column_name}' does not exist in the data.\")\n",
        "        return\n",
        "\n",
        "    # Calculate statistics for the column\n",
        "    mean_value = data[column_name].mean()\n",
        "    median_value = data[column_name].median()\n",
        "    mode_value = data[column_name].mode()[0] if not data[column_name].mode().empty else None\n",
        "    std_dev = data[column_name].std()\n",
        "    min_value = data[column_name].min()\n",
        "    max_value = data[column_name].max()\n",
        "\n",
        "    print(f\"Mean: {mean_value}\\nMax: {max_value}\")\n",
        "\n",
        "    try:\n",
        "        threshold = float(input(\"Enter the threshold value: \").strip())\n",
        "    except ValueError:\n",
        "        print(\"Invalid threshold value.\")\n",
        "        return\n",
        "\n",
        "    # Filter the data based on the input threshold\n",
        "    filtered_data = data[data[column_name] < threshold]\n",
        "    filtered_num_rows = filtered_data.shape[0]\n",
        "\n",
        "    # Identify and remove rows with any blank (NaN) values\n",
        "    blank_rows = filtered_data[filtered_data.isna().any(axis=1)].shape[0]\n",
        "    filtered_data_cleaned = filtered_data.dropna()\n",
        "\n",
        "    # Save the cleaned filtered data to a new CSV file\n",
        "    filtered_data_cleaned.to_csv(output_cleaned_file, index=False)\n",
        "\n",
        "    # Generate a report and save it to a text file\n",
        "    report = f\"\"\"\n",
        "CSV File Analysis Report\n",
        "------------------------\n",
        "\n",
        "Number of Columns: {num_columns}\n",
        "Number of Rows: {num_rows}\n",
        "\n",
        "Column Names:\n",
        "{', '.join(column_names)}\n",
        "\n",
        "Selected Column: {column_name}\n",
        "\n",
        "Statistics for {column_name}:\n",
        "- Mean: {mean_value}\n",
        "- Median: {median_value}\n",
        "- Mode: {mode_value}\n",
        "- Standard Deviation: {std_dev}\n",
        "- Minimum: {min_value}\n",
        "- Maximum: {max_value}\n",
        "\n",
        "Filtering Data:\n",
        "- Threshold: {threshold}\n",
        "- Rows after filtering: {filtered_num_rows}\n",
        "\n",
        "Blank Rows:\n",
        "- Number of Rows with Blanks: {blank_rows}\n",
        "- Total Rows after removing blank rows: {filtered_data_cleaned.shape[0]}\n",
        "\n",
        "Cleaned Filtered Data saved to: {output_cleaned_file}\n",
        "\"\"\"\n",
        "    with open(report_file, 'w') as report_f:\n",
        "        report_f.write(report)\n",
        "\n",
        "    print(f\"Report generated and saved to '{report_file}'\")\n",
        "    print(f\"Cleaned data saved to '{output_cleaned_file}'\")"
      ],
      "metadata": {
        "id": "T5_kEVZCHjLB"
      },
      "execution_count": null,
      "outputs": []
    },
    {
      "cell_type": "markdown",
      "source": [
        "Transpose Matrix"
      ],
      "metadata": {
        "id": "qCruVxlJH3TI"
      }
    },
    {
      "cell_type": "code",
      "source": [
        "def transpose_data(input_file, output_file):\n",
        "    \"\"\"\n",
        "    Transposes the data from the input CSV file after removing the first three columns.\n",
        "\n",
        "    Parameters:\n",
        "    - input_file (str): Path to the input CSV file.\n",
        "    - output_file (str): Path to save the transposed data.\n",
        "    \"\"\"\n",
        "    data = pd.read_csv(input_file)\n",
        "    # Remove the first three columns\n",
        "    data = data.iloc[:, 3:]\n",
        "    # Transpose the DataFrame\n",
        "    transposed_data = data.T\n",
        "    # Save the transposed DataFrame\n",
        "    transposed_data.to_csv(output_file, header=False, index=True)\n",
        "    print(f\"Transposed data saved to '{output_file}'\")"
      ],
      "metadata": {
        "id": "H6AywYWnH5T0"
      },
      "execution_count": null,
      "outputs": []
    },
    {
      "cell_type": "markdown",
      "source": [
        "Adding the lavel"
      ],
      "metadata": {
        "id": "jopTViHNIA4t"
      }
    },
    {
      "cell_type": "code",
      "source": [
        "def add_target_column(transposed_file, target_file, output_file):\n",
        "    \"\"\"\n",
        "    Adds a 'target' column to the transposed data based on the target genes.\n",
        "\n",
        "    Parameters:\n",
        "    - transposed_file (str): Path to the transposed CSV file.\n",
        "    - target_file (str): Path to the CSV file containing target genes.\n",
        "    - output_file (str): Path to save the labeled data.\n",
        "    \"\"\"\n",
        "    # Load the transposed data\n",
        "    df_transposed = pd.read_csv(transposed_file)\n",
        "    # Load the target genes\n",
        "    target_genes = pd.read_csv(target_file, header=None, names=['Gene.symbol'])['Gene.symbol'].str.strip()\n",
        "    # Add a 'target' column initialized to 1\n",
        "    df_transposed['target'] = 1\n",
        "    # Remove leading/trailing spaces from 'Gene.symbol'\n",
        "    df_transposed['Gene.symbol'] = df_transposed['Gene.symbol'].str.strip()\n",
        "    # Update 'target' to 0 where 'Gene.symbol' matches any value in target_genes\n",
        "    df_transposed.loc[df_transposed['Gene.symbol'].isin(target_genes), 'target'] = 0\n",
        "    # Remove the 'Gene.symbol' column\n",
        "    df_transposed = df_transposed.iloc[:, 1:]\n",
        "    # Save the updated DataFrame\n",
        "    df_transposed.to_csv(output_file, index=False)\n",
        "    print(f\"Labeled data saved to '{output_file}'\")"
      ],
      "metadata": {
        "id": "N-XOVratIDKR"
      },
      "execution_count": null,
      "outputs": []
    },
    {
      "cell_type": "markdown",
      "source": [
        "main"
      ],
      "metadata": {
        "id": "a_nl0LHWIJrq"
      }
    },
    {
      "cell_type": "code",
      "source": [
        "# Dynamic dataset name\n",
        "dataset_name = input(\"Enter the dataset name (e.g., 'GSE62792'): \").strip()"
      ],
      "metadata": {
        "colab": {
          "base_uri": "https://localhost:8080/"
        },
        "id": "_Z0cJUyiIKoM",
        "outputId": "4793fa80-b101-4062-a742-0c895d5b344a"
      },
      "execution_count": null,
      "outputs": [
        {
          "name": "stdout",
          "output_type": "stream",
          "text": [
            "Enter the dataset name (e.g., 'GSE62792'): GSE63878\n"
          ]
        }
      ]
    },
    {
      "cell_type": "code",
      "source": [
        "# File paths\n",
        "deg_input_file = f'{dataset_name}_deg.txt'\n",
        "metrix_input_file = f'{dataset_name}_series_matrix.txt'\n",
        "deg_output_file = f'{dataset_name}_deg.csv'\n",
        "metrix_output_file = f'{dataset_name}_series_matrix.csv'\n",
        "merged_output_file = f'{dataset_name}_series_matrix_with_pvalues.csv'\n",
        "cleaned_file_path = f'filtered_data_{dataset_name}.csv'\n",
        "report_file_path = f'analysis_report_{dataset_name}.txt'\n",
        "transposed_file = f'{dataset_name}_matrix_Transpose.csv'\n",
        "labeled_output_file = f'{dataset_name}_matrix_Transpose_labeled.csv'\n",
        "target_file = 'target.csv'  # Ensure this file exists in your working directory"
      ],
      "metadata": {
        "id": "4rUWhI5aIXFr"
      },
      "execution_count": null,
      "outputs": []
    },
    {
      "cell_type": "code",
      "source": [
        "# Step 1: Convert text files to CSV\n",
        "convert_txt_to_csv(deg_input_file, deg_output_file)\n",
        "convert_txt_to_csv(metrix_input_file, metrix_output_file)"
      ],
      "metadata": {
        "colab": {
          "base_uri": "https://localhost:8080/"
        },
        "id": "p3qmEBMNIbuv",
        "outputId": "0d781da7-e68c-44a5-8b05-04118b3b4217"
      },
      "execution_count": null,
      "outputs": [
        {
          "output_type": "stream",
          "name": "stdout",
          "text": [
            "File 'GSE63878_deg.txt' has been successfully converted to 'GSE63878_deg.csv'.\n",
            "File 'GSE63878_series_matrix.txt' has been successfully converted to 'GSE63878_series_matrix.csv'.\n"
          ]
        }
      ]
    },
    {
      "cell_type": "code",
      "source": [
        "# Step 2: Merge CSV files\n",
        "merge_csv_files(\n",
        "    first_csv_path=deg_output_file,\n",
        "    second_csv_path=metrix_output_file,\n",
        "    output_csv_path=merged_output_file,\n",
        "    first_key_column='ID',\n",
        "    second_key_column='ID_REF',\n",
        "    columns_to_copy=['adj.P.Val', 'P.Value', 'Gene.symbol'],\n",
        "    delimiter=','\n",
        ")"
      ],
      "metadata": {
        "colab": {
          "base_uri": "https://localhost:8080/"
        },
        "id": "Nb83SstkIh3G",
        "outputId": "c24aca83-0f17-4ea8-cfd0-cc9e65e9c226"
      },
      "execution_count": null,
      "outputs": [
        {
          "output_type": "stream",
          "name": "stdout",
          "text": [
            "Files have been successfully merged into 'GSE63878_series_matrix_with_pvalues.csv'.\n"
          ]
        }
      ]
    },
    {
      "cell_type": "code",
      "source": [
        "# Step 3: Perform data analysis\n",
        "perform_analysis(\n",
        "    file_path=merged_output_file,\n",
        "    output_cleaned_file=cleaned_file_path,\n",
        "    report_file=report_file_path\n",
        ")"
      ],
      "metadata": {
        "colab": {
          "base_uri": "https://localhost:8080/"
        },
        "id": "TEYqpt1cImZu",
        "outputId": "001c5e69-8cc7-42f7-f543-78f35567b233"
      },
      "execution_count": null,
      "outputs": [
        {
          "output_type": "stream",
          "name": "stdout",
          "text": [
            "Column Names:\n",
            "- ID_REF\n",
            "- adj.P.Val\n",
            "- P.Value\n",
            "- Gene.symbol\n",
            "- GSM1558775\n",
            "- GSM1558776\n",
            "- GSM1558777\n",
            "- GSM1558778\n",
            "- GSM1558779\n",
            "- GSM1558780\n",
            "- GSM1558781\n",
            "- GSM1558782\n",
            "- GSM1558783\n",
            "- GSM1558784\n",
            "- GSM1558785\n",
            "- GSM1558786\n",
            "- GSM1558787\n",
            "- GSM1558788\n",
            "- GSM1558789\n",
            "- GSM1558790\n",
            "- GSM1558791\n",
            "- GSM1558792\n",
            "- GSM1558793\n",
            "- GSM1558794\n",
            "- GSM1558795\n",
            "- GSM1558796\n",
            "- GSM1558797\n",
            "- GSM1558798\n",
            "- GSM1558799\n",
            "- GSM1558800\n",
            "- GSM1558801\n",
            "- GSM1558802\n",
            "- GSM1558803\n",
            "- GSM1558804\n",
            "- GSM1558805\n",
            "- GSM1558806\n",
            "- GSM1558807\n",
            "- GSM1558808\n",
            "- GSM1558809\n",
            "- GSM1558810\n",
            "- GSM1558811\n",
            "- GSM1558812\n",
            "- GSM1558813\n",
            "- GSM1558814\n",
            "- GSM1558815\n",
            "- GSM1558816\n",
            "- GSM1558817\n",
            "- GSM1558818\n",
            "- GSM1558819\n",
            "- GSM1558820\n",
            "- GSM1558821\n",
            "- GSM1558822\n",
            "- GSM1558823\n",
            "- GSM1558824\n",
            "- GSM1558825\n",
            "- GSM1558826\n",
            "- GSM1558827\n",
            "- GSM1558828\n",
            "- GSM1558829\n",
            "- GSM1558830\n",
            "- GSM1558831\n",
            "- GSM1558832\n",
            "- GSM1558833\n",
            "- GSM1558834\n",
            "- GSM1558835\n",
            "- GSM1558836\n",
            "- GSM1558837\n",
            "- GSM1558838\n",
            "- GSM1558839\n",
            "- GSM1558840\n",
            "- GSM1558841\n",
            "- GSM1558842\n",
            "- GSM1558843\n",
            "- GSM1558844\n",
            "- GSM1558845\n",
            "- GSM1558846\n",
            "- GSM1558847\n",
            "- GSM1558848\n",
            "- GSM1558849\n",
            "- GSM1558850\n",
            "- GSM1558851\n",
            "- GSM1558852\n",
            "- GSM1558853\n",
            "- GSM1558854\n",
            "- GSM1558855\n",
            "- GSM1558856\n",
            "- GSM1558857\n",
            "- GSM1558858\n",
            "- GSM1558859\n",
            "- GSM1558860\n",
            "- GSM1558861\n",
            "- GSM1558862\n",
            "- GSM1558863\n",
            "- GSM1558864\n",
            "- GSM1558865\n",
            "- GSM1558866\n",
            "- GSM1558867\n",
            "- GSM1558868\n",
            "- GSM1558869\n",
            "- GSM1558870\n",
            "Enter the column name for analysis: P.Value\n",
            "Mean: 0.5643087603567214\n",
            "Max: 0.9999838\n",
            "Enter the threshold value: 0.08\n",
            "Report generated and saved to 'analysis_report_GSE63878.txt'\n",
            "Cleaned data saved to 'filtered_data_GSE63878.csv'\n"
          ]
        }
      ]
    },
    {
      "cell_type": "code",
      "source": [
        "# Step 4: Transpose the data\n",
        "transpose_data(\n",
        "    input_file=cleaned_file_path,\n",
        "    output_file=transposed_file\n",
        ")"
      ],
      "metadata": {
        "colab": {
          "base_uri": "https://localhost:8080/"
        },
        "id": "Bu8uxoubI17K",
        "outputId": "4dd39d64-961a-472f-ae06-f8833785ce14"
      },
      "execution_count": null,
      "outputs": [
        {
          "output_type": "stream",
          "name": "stdout",
          "text": [
            "Transposed data saved to 'GSE63878_matrix_Transpose.csv'\n"
          ]
        }
      ]
    },
    {
      "cell_type": "code",
      "source": [
        "# Step 5: Add the target column\n",
        "add_target_column(\n",
        "    transposed_file=transposed_file,\n",
        "    target_file=target_file,\n",
        "    output_file=labeled_output_file\n",
        ")"
      ],
      "metadata": {
        "colab": {
          "base_uri": "https://localhost:8080/"
        },
        "id": "h9krOpv3I6BF",
        "outputId": "cc7db1be-f184-43a3-ae10-93ee38361614"
      },
      "execution_count": null,
      "outputs": [
        {
          "output_type": "stream",
          "name": "stdout",
          "text": [
            "Labeled data saved to 'GSE63878_matrix_Transpose_labeled.csv'\n"
          ]
        }
      ]
    }
  ]
}